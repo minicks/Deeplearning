{
  "nbformat": 4,
  "nbformat_minor": 0,
  "metadata": {
    "colab": {
      "name": "LSTM AI는 얼마나 성능이 뛰어날까.ipynb",
      "provenance": [],
      "mount_file_id": "1RhIolS9KYjQNsxjCW8mlsyukwpPvvvEG",
      "authorship_tag": "ABX9TyPPw7PPDHkjCk9vxajj2PgP",
      "include_colab_link": true
    },
    "kernelspec": {
      "name": "python3",
      "display_name": "Python 3"
    },
    "language_info": {
      "name": "python"
    }
  },
  "cells": [
    {
      "cell_type": "markdown",
      "metadata": {
        "id": "view-in-github",
        "colab_type": "text"
      },
      "source": [
        "<a href=\"https://colab.research.google.com/github/minicks/Deeplearning/blob/main/3.CNN/LSTM_AI%E1%84%82%E1%85%B3%E1%86%AB_%E1%84%8B%E1%85%A5%E1%86%AF%E1%84%86%E1%85%A1%E1%84%82%E1%85%A1_%E1%84%89%E1%85%A5%E1%86%BC%E1%84%82%E1%85%B3%E1%86%BC%E1%84%8B%E1%85%B5_%E1%84%84%E1%85%B1%E1%84%8B%E1%85%A5%E1%84%82%E1%85%A1%E1%86%AF%E1%84%81%E1%85%A1.ipynb\" target=\"_parent\"><img src=\"https://colab.research.google.com/assets/colab-badge.svg\" alt=\"Open In Colab\"/></a>"
      ]
    },
    {
      "cell_type": "code",
      "metadata": {
        "colab": {
          "base_uri": "https://localhost:8080/"
        },
        "id": "trFp4sHTrhQF",
        "outputId": "31d98efc-6eb7-43ce-a2d7-ad2220f8c655"
      },
      "source": [
        "cd /content/drive/MyDrive/수학·통계를 몰라도 이해할 수 있는 쉬운 딥러닝 코드 소스/[4편] 인간의 기억력을 흉내 낸 인공지능 - LSTM/[11장] 자연어 학습 인공지능/4_11_3_LSTM AI는 얼마나 성능이 뛰어날까"
      ],
      "execution_count": 1,
      "outputs": [
        {
          "output_type": "stream",
          "text": [
            "/content/drive/MyDrive/수학·통계를 몰라도 이해할 수 있는 쉬운 딥러닝 코드 소스/[4편] 인간의 기억력을 흉내 낸 인공지능 - LSTM/[11장] 자연어 학습 인공지능/4_11_3_LSTM AI는 얼마나 성능이 뛰어날까\n"
          ],
          "name": "stdout"
        }
      ]
    },
    {
      "cell_type": "code",
      "metadata": {
        "id": "w-O4cUxKrVfR"
      },
      "source": [
        "import data_reader\n",
        "from tensorflow import keras"
      ],
      "execution_count": 2,
      "outputs": []
    },
    {
      "cell_type": "code",
      "metadata": {
        "id": "bXA-L1OXrfuY"
      },
      "source": [
        "# 몇 에포크 만큼 학습을 시킬 것인지 결정합니다.\n",
        "EPOCHS = 1  # 예제 기본값은 1입니다."
      ],
      "execution_count": 3,
      "outputs": []
    },
    {
      "cell_type": "code",
      "metadata": {
        "colab": {
          "base_uri": "https://localhost:8080/"
        },
        "id": "I-stsk4cre08",
        "outputId": "eacc367b-a081-43b7-87e5-10127354c848"
      },
      "source": [
        "# 데이터를 읽어옵니다.\n",
        "dr = data_reader.DataReader()"
      ],
      "execution_count": 4,
      "outputs": [
        {
          "output_type": "stream",
          "text": [
            "\n",
            "\n",
            "Data Read Done!\n",
            "Training X Size : (4128, 189)\n",
            "Training Y Size : (4128,)\n",
            "Test X Size : (1032, 189)\n",
            "Test Y Size : (1032,)\n",
            "\n",
            "\n"
          ],
          "name": "stdout"
        }
      ]
    },
    {
      "cell_type": "code",
      "metadata": {
        "id": "Zw3GuangrdvV"
      },
      "source": [
        "# 인공신경망을 제작합니다.\n",
        "model = keras.Sequential([\n",
        "    keras.layers.Embedding(8983, 128),\n",
        "    keras.layers.Bidirectional(keras.layers.LSTM(32)),\n",
        "    keras.layers.Dense(32, activation='relu'),\n",
        "    keras.layers.Dropout(0.1),\n",
        "    keras.layers.Dense(1, activation='sigmoid')\n",
        "])"
      ],
      "execution_count": 5,
      "outputs": []
    },
    {
      "cell_type": "code",
      "metadata": {
        "id": "cgLRn6-GrcvP"
      },
      "source": [
        "# 인공신경망을 컴파일합니다.\n",
        "model.compile(optimizer=\"adam\", metrics=['accuracy'],\n",
        "              loss=\"binary_crossentropy\")"
      ],
      "execution_count": 6,
      "outputs": []
    },
    {
      "cell_type": "code",
      "metadata": {
        "colab": {
          "base_uri": "https://localhost:8080/"
        },
        "id": "qej4XPllrbxR",
        "outputId": "df1c3482-2298-4a6e-8f00-a426579b50d0"
      },
      "source": [
        "# 인공신경망을 학습시킵니다.\n",
        "print(\"\\n\\n************ TRAINING START ************ \")\n",
        "history = model.fit(dr.train_X, dr.train_Y, epochs=EPOCHS,\n",
        "                    validation_data=(dr.test_X, dr.test_Y))"
      ],
      "execution_count": 7,
      "outputs": [
        {
          "output_type": "stream",
          "text": [
            "\n",
            "\n",
            "************ TRAINING START ************ \n",
            "129/129 [==============================] - 25s 168ms/step - loss: 0.2039 - accuracy: 0.9324 - val_loss: 0.0485 - val_accuracy: 0.9874\n"
          ],
          "name": "stdout"
        }
      ]
    },
    {
      "cell_type": "code",
      "metadata": {
        "colab": {
          "base_uri": "https://localhost:8080/",
          "height": 1000
        },
        "id": "eGBp7qXbra32",
        "outputId": "decb31b4-c8a9-4a1b-d9e0-bcfbf503c332"
      },
      "source": [
        "# 학습 결과를 그래프로 출력합니다.\n",
        "data_reader.draw_graph(history)"
      ],
      "execution_count": 8,
      "outputs": [
        {
          "output_type": "display_data",
          "data": {
            "image/png": "[encoded data removed]",
            "text/plain": [
              "<Figure size 576x576 with 1 Axes>"
            ]
          },
          "metadata": {
            "needs_background": "light"
          }
        },
        {
          "output_type": "display_data",
          "data": {
            "image/png": "[encoded data removed]",
            "text/plain": [
              "<Figure size 576x576 with 1 Axes>"
            ]
          },
          "metadata": {
            "needs_background": "light"
          }
        }
      ]
    },
    {
      "cell_type": "code",
      "metadata": {
        "id": "dIBp2bzYrmv2"
      },
      "source": [
        ""
      ],
      "execution_count": null,
      "outputs": []
    },
    {
      "cell_type": "code",
      "metadata": {
        "id": "X8gxm_dSwnt3"
      },
      "source": [
        "# 인공신경망을 제작합니다.\n",
        "model = keras.Sequential([\n",
        "    keras.layers.Embedding(8983, 128),\n",
        "    keras.layers.Bidirectional(keras.layers.LSTM(128,activation='tanh')),\n",
        "    keras.layers.Dense(32, activation='relu'),\n",
        "    keras.layers.Dropout(0.1),\n",
        "    keras.layers.Dense(1, activation='sigmoid')\n",
        "])"
      ],
      "execution_count": 18,
      "outputs": []
    },
    {
      "cell_type": "code",
      "metadata": {
        "id": "Qg_9Aw-mwnt7"
      },
      "source": [
        "# 인공신경망을 컴파일합니다.\n",
        "model.compile(optimizer=\"adam\", metrics=['accuracy'],\n",
        "              loss=\"binary_crossentropy\")"
      ],
      "execution_count": 19,
      "outputs": []
    },
    {
      "cell_type": "code",
      "metadata": {
        "colab": {
          "base_uri": "https://localhost:8080/"
        },
        "id": "fFXkPNwawnt8",
        "outputId": "c8ebf4d4-7d27-4be4-8cd0-f8a3ba30ebad"
      },
      "source": [
        "# 인공신경망을 학습시킵니다.\n",
        "print(\"\\n\\n************ TRAINING START ************ \")\n",
        "history = model.fit(dr.train_X, dr.train_Y, epochs=EPOCHS,\n",
        "                    validation_data=(dr.test_X, dr.test_Y))"
      ],
      "execution_count": 20,
      "outputs": [
        {
          "output_type": "stream",
          "text": [
            "\n",
            "\n",
            "************ TRAINING START ************ \n",
            "129/129 [==============================] - 63s 466ms/step - loss: 0.1544 - accuracy: 0.9501 - val_loss: 0.0523 - val_accuracy: 0.9855\n"
          ],
          "name": "stdout"
        }
      ]
    },
    {
      "cell_type": "code",
      "metadata": {
        "id": "nebYXJJNwsZV"
      },
      "source": [
        ""
      ],
      "execution_count": null,
      "outputs": []
    }
  ]
}