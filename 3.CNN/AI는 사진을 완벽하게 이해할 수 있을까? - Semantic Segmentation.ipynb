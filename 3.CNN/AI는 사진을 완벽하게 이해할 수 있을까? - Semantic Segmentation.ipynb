{
  "nbformat": 4,
  "nbformat_minor": 0,
  "metadata": {
    "colab": {
      "name": "Untitled53.ipynb",
      "provenance": [],
      "mount_file_id": "1Pm2M2ymOib6vDyXjAnnychptHKo20UBT",
      "authorship_tag": "ABX9TyO0h3MtcRYpWWuhJ2o5gl1g",
      "include_colab_link": true
    },
    "kernelspec": {
      "name": "python3",
      "display_name": "Python 3"
    },
    "language_info": {
      "name": "python"
    }
  },
  "cells": [
    {
      "cell_type": "markdown",
      "metadata": {
        "id": "view-in-github",
        "colab_type": "text"
      },
      "source": [
        "<a href=\"https://colab.research.google.com/github/minicks/Deeplearning/blob/main/3.CNN/AI%EB%8A%94%20%EC%82%AC%EC%A7%84%EC%9D%84%20%EC%99%84%EB%B2%BD%ED%95%98%EA%B2%8C%20%EC%9D%B4%ED%95%B4%ED%95%A0%20%EC%88%98%20%EC%9E%88%EC%9D%84%EA%B9%8C%3F%20-%20Semantic%20Segmentation.ipynb\" target=\"_parent\"><img src=\"https://colab.research.google.com/assets/colab-badge.svg\" alt=\"Open In Colab\"/></a>"
      ]
    },
    {
      "cell_type": "code",
      "metadata": {
        "colab": {
          "base_uri": "https://localhost:8080/"
        },
        "id": "81GpB_lknRy4",
        "outputId": "6d4545fe-5d42-4f2e-db7a-88fbcb82b52e"
      },
      "source": [
        "cd /content/drive/MyDrive/수학·통계를 몰라도 이해할 수 있는 쉬운 딥러닝 코드 소스/[3편] 인간의 시각 처리를 흉내 낸 인공지능 - CNN/[9장] 이미지 학습 기법 활용하기/3_9_4_AI는 사진을 완벽하게 이해할 수 있을까 - Semantic Segmentation"
      ],
      "execution_count": 1,
      "outputs": [
        {
          "output_type": "stream",
          "text": [
            "/content/drive/MyDrive/수학·통계를 몰라도 이해할 수 있는 쉬운 딥러닝 코드 소스/[3편] 인간의 시각 처리를 흉내 낸 인공지능 - CNN/[9장] 이미지 학습 기법 활용하기/3_9_4_AI는 사진을 완벽하게 이해할 수 있을까 - Semantic Segmentation\n"
          ],
          "name": "stdout"
        }
      ]
    },
    {
      "cell_type": "code",
      "metadata": {
        "id": "jQirOXhVnJCJ"
      },
      "source": [
        "from tensorflow import keras\n",
        "import data_reader\n",
        "import unet"
      ],
      "execution_count": 2,
      "outputs": []
    },
    {
      "cell_type": "code",
      "metadata": {
        "id": "PgfRGIGqnQAV"
      },
      "source": [
        "# 몇 에포크 만큼 학습을 시킬 것인지 결정합니다.\n",
        "EPOCHS = 50  # 예제 기본값은 50입니다."
      ],
      "execution_count": 3,
      "outputs": []
    },
    {
      "cell_type": "code",
      "metadata": {
        "colab": {
          "base_uri": "https://localhost:8080/"
        },
        "id": "GqjzG7IznO0e",
        "outputId": "3e85b940-6e1e-4f9f-8488-665f5a3e74c9"
      },
      "source": [
        "# 데이터를 읽어옵니다.\n",
        "dr = data_reader.DataReader()"
      ],
      "execution_count": null,
      "outputs": [
        {
          "output_type": "stream",
          "text": [
            "Reading Data...\n"
          ],
          "name": "stdout"
        }
      ]
    },
    {
      "cell_type": "code",
      "metadata": {
        "id": "-hag-JiwnN9U"
      },
      "source": [
        "# U-Net을 불러옵니다.\n",
        "model = unet.graph(128, 128)"
      ],
      "execution_count": null,
      "outputs": []
    },
    {
      "cell_type": "code",
      "metadata": {
        "id": "VjkJDykInNF7"
      },
      "source": [
        "# 인공신경망을 컴파일합니다.\n",
        "loss = keras.losses.BinaryCrossentropy(from_logits=True)\n",
        "model.compile(optimizer=\"adam\", metrics=['accuracy'], loss=loss)"
      ],
      "execution_count": null,
      "outputs": []
    },
    {
      "cell_type": "code",
      "metadata": {
        "id": "ketwAxhFnL_u"
      },
      "source": [
        "# 인공신경망을 학습시킵니다.\n",
        "print(\"\\n\\n************ TRAINING START ************ \")\n",
        "early_stop = keras.callbacks.EarlyStopping(monitor='val_loss', patience=10)\n",
        "history = model.fit(dr.train_X, dr.train_Y, epochs=EPOCHS,\n",
        "                    validation_data=(dr.test_X, dr.test_Y),\n",
        "                    callbacks=[early_stop])"
      ],
      "execution_count": null,
      "outputs": []
    },
    {
      "cell_type": "code",
      "metadata": {
        "id": "L6v40st8nLRc"
      },
      "source": [
        "# Segmentation 결과를 저장합니다.\n",
        "data_reader.save_segmentation_results(dr.test_X, dr.test_Y, model)"
      ],
      "execution_count": null,
      "outputs": []
    },
    {
      "cell_type": "code",
      "metadata": {
        "id": "mP7s23NcnKY8"
      },
      "source": [
        "# 학습 결과를 그래프로 출력합니다.\n",
        "data_reader.draw_graph(history)"
      ],
      "execution_count": null,
      "outputs": []
    },
    {
      "cell_type": "code",
      "metadata": {
        "id": "aE-F1kRTnkR9"
      },
      "source": [
        ""
      ],
      "execution_count": null,
      "outputs": []
    }
  ]
}