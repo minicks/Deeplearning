{
  "nbformat": 4,
  "nbformat_minor": 0,
  "metadata": {
    "colab": {
      "name": "AI는 거장의 화풍을 따라 할 수 있을까? - Style Transfer.ipynb",
      "provenance": [],
      "mount_file_id": "14_j90RIahzL28ggd9o8QDOgIrunnWmej",
      "authorship_tag": "ABX9TyMsuz26IQurlhgPgKMNpFXH",
      "include_colab_link": true
    },
    "kernelspec": {
      "name": "python3",
      "display_name": "Python 3"
    },
    "language_info": {
      "name": "python"
    }
  },
  "cells": [
    {
      "cell_type": "markdown",
      "metadata": {
        "id": "view-in-github",
        "colab_type": "text"
      },
      "source": [
        "<a href=\"https://colab.research.google.com/github/minicks/Deeplearning/blob/main/3.CNN/AI%EB%8A%94_%EA%B1%B0%EC%9E%A5%EC%9D%98_%ED%99%94%ED%92%8D%EC%9D%84_%EB%94%B0%EB%9D%BC_%ED%95%A0_%EC%88%98_%EC%9E%88%EC%9D%84%EA%B9%8C%3F_Style_Transfer.ipynb\" target=\"_parent\"><img src=\"https://colab.research.google.com/assets/colab-badge.svg\" alt=\"Open In Colab\"/></a>"
      ]
    },
    {
      "cell_type": "code",
      "metadata": {
        "colab": {
          "base_uri": "https://localhost:8080/"
        },
        "id": "ideahSzhHYry",
        "outputId": "c0f64064-e6d2-446d-e201-c9439d4287bc"
      },
      "source": [
        "cd /content/drive/MyDrive/수학·통계를 몰라도 이해할 수 있는 쉬운 딥러닝 코드 소스/[3편] 인간의 시각 처리를 흉내 낸 인공지능 - CNN/[9장] 이미지 학습 기법 활용하기/3_9_1_AI는 거장의 화풍을 따라할 수 있을까 - Style Transfer"
      ],
      "execution_count": 1,
      "outputs": [
        {
          "output_type": "stream",
          "text": [
            "/content/drive/MyDrive/수학·통계를 몰라도 이해할 수 있는 쉬운 딥러닝 코드 소스/[3편] 인간의 시각 처리를 흉내 낸 인공지능 - CNN/[9장] 이미지 학습 기법 활용하기/3_9_1_AI는 거장의 화풍을 따라할 수 있을까 - Style Transfer\n"
          ],
          "name": "stdout"
        }
      ]
    },
    {
      "cell_type": "code",
      "metadata": {
        "id": "1gRSdxk5HR_u"
      },
      "source": [
        "import tensorflow_hub as hub\n",
        "import data_reader"
      ],
      "execution_count": 2,
      "outputs": []
    },
    {
      "cell_type": "code",
      "metadata": {
        "id": "Dd6MXH9JHf3q"
      },
      "source": [
        "# 데이터를 불러옵니다.\n",
        "dr = data_reader.DataReader(\"content.jpg\", \"style.jpg\")"
      ],
      "execution_count": 3,
      "outputs": []
    },
    {
      "cell_type": "code",
      "metadata": {
        "id": "6pq3y7pnHezg"
      },
      "source": [
        "# Hub로부터 style transfer 모듈을 불러옵니다.\n",
        "hub_module = hub.load(\n",
        "    'https://tfhub.dev/google/magenta/arbitrary-image-stylization-v1-256/1'\n",
        ")"
      ],
      "execution_count": 4,
      "outputs": []
    },
    {
      "cell_type": "code",
      "metadata": {
        "id": "CPq1D1X8HdyA"
      },
      "source": [
        "# 모듈에 이미지를 삽입해 Style Transfer를 실시합니다.\n",
        "stylized_image = hub_module(dr.content, dr.style)[0]"
      ],
      "execution_count": 5,
      "outputs": []
    },
    {
      "cell_type": "code",
      "metadata": {
        "id": "yBp1l-6sHcqy"
      },
      "source": [
        "# 결과를 출력합니다.\n",
        "result = data_reader.tensor_to_image(stylized_image)"
      ],
      "execution_count": 6,
      "outputs": []
    },
    {
      "cell_type": "code",
      "metadata": {
        "id": "nN7Ro68aHa44"
      },
      "source": [
        "# 결과를 저장합니다.\n",
        "result.save(\"result.jpg\")"
      ],
      "execution_count": 7,
      "outputs": []
    },
    {
      "cell_type": "markdown",
      "metadata": {
        "id": "JP7Km8qCJl-A"
      },
      "source": [
        "# 다른 이미지"
      ]
    },
    {
      "cell_type": "code",
      "metadata": {
        "id": "L5Sc0WP0Jse5"
      },
      "source": [
        "# 데이터를 불러옵니다.\n",
        "dr = data_reader.DataReader(\"style.jpg\", \"A2.jpg\")"
      ],
      "execution_count": 51,
      "outputs": []
    },
    {
      "cell_type": "code",
      "metadata": {
        "id": "38_Xb--LJse6"
      },
      "source": [
        "# Hub로부터 style transfer 모듈을 불러옵니다.\n",
        "hub_module = hub.load(\n",
        "    'https://tfhub.dev/google/magenta/arbitrary-image-stylization-v1-256/1'\n",
        ")"
      ],
      "execution_count": 52,
      "outputs": []
    },
    {
      "cell_type": "code",
      "metadata": {
        "id": "ILDLQKMfJse6"
      },
      "source": [
        "# 모듈에 이미지를 삽입해 Style Transfer를 실시합니다.\n",
        "stylized_image = hub_module(dr.content, dr.style)[0]"
      ],
      "execution_count": 53,
      "outputs": []
    },
    {
      "cell_type": "code",
      "metadata": {
        "id": "Do2tGpuCJse7"
      },
      "source": [
        "# 결과를 출력합니다.\n",
        "result = data_reader.tensor_to_image(stylized_image)"
      ],
      "execution_count": 54,
      "outputs": []
    },
    {
      "cell_type": "code",
      "metadata": {
        "id": "DGcZug6pJse7"
      },
      "source": [
        "# 결과를 저장합니다.\n",
        "result.save(\"result5.jpg\")"
      ],
      "execution_count": 55,
      "outputs": []
    },
    {
      "cell_type": "code",
      "metadata": {
        "id": "ox3SClH5J5rA"
      },
      "source": [
        ""
      ],
      "execution_count": null,
      "outputs": []
    }
  ]
}