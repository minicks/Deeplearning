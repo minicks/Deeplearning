{
  "nbformat": 4,
  "nbformat_minor": 0,
  "metadata": {
    "colab": {
      "name": "0.확인과정.ipynb",
      "provenance": [],
      "mount_file_id": "1R_Xrn1qX2iJRN8W2tWlapmqyJ9w_YInq",
      "authorship_tag": "ABX9TyMap3MSxMePlEG0HzjZsFK+",
      "include_colab_link": true
    },
    "kernelspec": {
      "name": "python3",
      "display_name": "Python 3"
    },
    "language_info": {
      "name": "python"
    }
  },
  "cells": [
    {
      "cell_type": "markdown",
      "metadata": {
        "id": "view-in-github",
        "colab_type": "text"
      },
      "source": [
        "<a href=\"https://colab.research.google.com/github/minicks/Deeplearning/blob/main/0_%ED%99%95%EC%9D%B8%EA%B3%BC%EC%A0%95.ipynb\" target=\"_parent\"><img src=\"https://colab.research.google.com/assets/colab-badge.svg\" alt=\"Open In Colab\"/></a>"
      ]
    },
    {
      "cell_type": "code",
      "metadata": {
        "colab": {
          "base_uri": "https://localhost:8080/"
        },
        "id": "WdTlDPkvQ2jk",
        "outputId": "30bb955d-cffe-4fca-d0d2-fe00a87f4c67"
      },
      "source": [
        "import os\n",
        "os.listdir(\"drive/MyDrive/수학·통계를 몰라도 이해할 수 있는 쉬운 딥러닝 코드 소스/[2편] 인간의 뇌세포를 흉내 낸 인공지능 - FNN/[5장] 분류(Classification) 기법 활용하기/2_5_1_AI는 체격을 보고 초, 중, 고등학생을 구분할 수 있을까\")\n"
      ],
      "execution_count": 2,
      "outputs": [
        {
          "output_type": "execute_result",
          "data": {
            "text/plain": [
              "['License.txt',\n",
              " 'main.py',\n",
              " 'README.md',\n",
              " 'data_reader.py',\n",
              " '12',\n",
              " 'data',\n",
              " '__pycache__',\n",
              " 'data_reader (1).py',\n",
              " 'data_reade.py']"
            ]
          },
          "metadata": {
            "tags": []
          },
          "execution_count": 2
        }
      ]
    },
    {
      "cell_type": "code",
      "metadata": {
        "colab": {
          "base_uri": "https://localhost:8080/"
        },
        "id": "XIjEXpxdULk0",
        "outputId": "75463eea-c3c7-4a9d-c335-35a066aa892f"
      },
      "source": [
        "cd /content/drive/MyDrive/수학·통계를 몰라도 이해할 수 있는 쉬운 딥러닝 코드 소스/[2편] 인간의 뇌세포를 흉내 낸 인공지능 - FNN/[5장] 분류(Classification) 기법 활용하기/2_5_1_AI는 체격을 보고 초, 중, 고등학생을 구분할 수 있을까"
      ],
      "execution_count": 3,
      "outputs": [
        {
          "output_type": "stream",
          "text": [
            "/content/drive/MyDrive/수학·통계를 몰라도 이해할 수 있는 쉬운 딥러닝 코드 소스/[2편] 인간의 뇌세포를 흉내 낸 인공지능 - FNN/[5장] 분류(Classification) 기법 활용하기/2_5_1_AI는 체격을 보고 초, 중, 고등학생을 구분할 수 있을까\n"
          ],
          "name": "stdout"
        }
      ]
    },
    {
      "cell_type": "code",
      "metadata": {
        "colab": {
          "base_uri": "https://localhost:8080/",
          "height": 34
        },
        "id": "7bnep0bURtN8",
        "outputId": "42f258af-b20f-43db-e741-7e07e31f0e8f"
      },
      "source": [
        "import tensorflow as tf\n",
        "from tensorflow import keras as k\n",
        "tf.__version__\n",
        "k.__version__"
      ],
      "execution_count": 4,
      "outputs": [
        {
          "output_type": "execute_result",
          "data": {
            "application/vnd.google.colaboratory.intrinsic+json": {
              "type": "string"
            },
            "text/plain": [
              "'2.5.0'"
            ]
          },
          "metadata": {
            "tags": []
          },
          "execution_count": 4
        }
      ]
    },
    {
      "cell_type": "code",
      "metadata": {
        "colab": {
          "base_uri": "https://localhost:8080/"
        },
        "id": "FOBBw9_2Skwq",
        "outputId": "e97513cc-aa15-4d64-c27f-7cbd2f5b737c"
      },
      "source": [
        "import data_reade\n",
        "dr = data_reade.DataReader()"
      ],
      "execution_count": 5,
      "outputs": [
        {
          "output_type": "stream",
          "text": [
            "\n",
            "\n",
            "Data Read Done!\n",
            "Training X Size : (7745, 3)\n",
            "Training Y Size : (7745,)\n",
            "Test X Size : (1937, 3)\n",
            "Test Y Size : (1937,)\n",
            "\n",
            "\n"
          ],
          "name": "stdout"
        }
      ]
    }
  ]
}